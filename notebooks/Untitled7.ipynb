{
 "cells": [
  {
   "cell_type": "code",
   "execution_count": 1,
   "metadata": {
    "scrolled": true
   },
   "outputs": [],
   "source": [
    "import sys\n",
    "sys.path.append(\"..\")\n",
    "from helper import *\n",
    "from word_embeddings import *\n",
    "import gensim\n",
    "from gensim.models.coherencemodel import CoherenceModel\n",
    "from gensim.corpora import Dictionary\n",
    "from pprint import pprint\n",
    "import matplotlib.pyplot as plt\n",
    "from operator import itemgetter\n",
    "from gensim.models import Phrases"
   ]
  },
  {
   "cell_type": "markdown",
   "metadata": {},
   "source": [
    "1. Create preprocessed data"
   ]
  },
  {
   "cell_type": "code",
   "execution_count": 2,
   "metadata": {},
   "outputs": [
    {
     "data": {
      "text/html": [
       "<div>\n",
       "<style scoped>\n",
       "    .dataframe tbody tr th:only-of-type {\n",
       "        vertical-align: middle;\n",
       "    }\n",
       "\n",
       "    .dataframe tbody tr th {\n",
       "        vertical-align: top;\n",
       "    }\n",
       "\n",
       "    .dataframe thead th {\n",
       "        text-align: right;\n",
       "    }\n",
       "</style>\n",
       "<table border=\"1\" class=\"dataframe\">\n",
       "  <thead>\n",
       "    <tr style=\"text-align: right;\">\n",
       "      <th></th>\n",
       "      <th>transcriptionName</th>\n",
       "      <th>content</th>\n",
       "      <th>year</th>\n",
       "      <th>month</th>\n",
       "      <th>day</th>\n",
       "    </tr>\n",
       "  </thead>\n",
       "  <tbody>\n",
       "    <tr>\n",
       "      <th>0</th>\n",
       "      <td>tagesschau_26062014_2000_.txt.txt</td>\n",
       "      <td>[erste, deutsch, fernsehen, tagesschau, heute,...</td>\n",
       "      <td>2014</td>\n",
       "      <td>06</td>\n",
       "      <td>26</td>\n",
       "    </tr>\n",
       "    <tr>\n",
       "      <th>1</th>\n",
       "      <td>tagesschau_04012013_2000_.wav.txt</td>\n",
       "      <td>[erste, deutsch, fernsehen, tagesschau, gut, a...</td>\n",
       "      <td>2013</td>\n",
       "      <td>01</td>\n",
       "      <td>04</td>\n",
       "    </tr>\n",
       "    <tr>\n",
       "      <th>2</th>\n",
       "      <td>tagesschau_02042013_2000_.wav.txt</td>\n",
       "      <td>[erste, deutsch, fernsehen, tagesschau, gut, a...</td>\n",
       "      <td>2013</td>\n",
       "      <td>04</td>\n",
       "      <td>02</td>\n",
       "    </tr>\n",
       "    <tr>\n",
       "      <th>3</th>\n",
       "      <td>tagesschau_27092013_2000_.txt.txt</td>\n",
       "      <td>[erste, deutsch, fernsehen, tagesschau, gut, a...</td>\n",
       "      <td>2013</td>\n",
       "      <td>09</td>\n",
       "      <td>27</td>\n",
       "    </tr>\n",
       "    <tr>\n",
       "      <th>4</th>\n",
       "      <td>tagesschau_20112013_2000_.txt.txt</td>\n",
       "      <td>[erste, deutsch, fernsehen, tagesschau, gut, a...</td>\n",
       "      <td>2013</td>\n",
       "      <td>11</td>\n",
       "      <td>20</td>\n",
       "    </tr>\n",
       "  </tbody>\n",
       "</table>\n",
       "</div>"
      ],
      "text/plain": [
       "                   transcriptionName  \\\n",
       "0  tagesschau_26062014_2000_.txt.txt   \n",
       "1  tagesschau_04012013_2000_.wav.txt   \n",
       "2  tagesschau_02042013_2000_.wav.txt   \n",
       "3  tagesschau_27092013_2000_.txt.txt   \n",
       "4  tagesschau_20112013_2000_.txt.txt   \n",
       "\n",
       "                                             content  year month day  \n",
       "0  [erste, deutsch, fernsehen, tagesschau, heute,...  2014    06  26  \n",
       "1  [erste, deutsch, fernsehen, tagesschau, gut, a...  2013    01  04  \n",
       "2  [erste, deutsch, fernsehen, tagesschau, gut, a...  2013    04  02  \n",
       "3  [erste, deutsch, fernsehen, tagesschau, gut, a...  2013    09  27  \n",
       "4  [erste, deutsch, fernsehen, tagesschau, gut, a...  2013    11  20  "
      ]
     },
     "execution_count": 2,
     "metadata": {},
     "output_type": "execute_result"
    }
   ],
   "source": [
    "df = transcripts_to_df(\"../test_transcripts\")\n",
    "preprocess_df(df)\n",
    "df.head()"
   ]
  },
  {
   "cell_type": "markdown",
   "metadata": {},
   "source": [
    "2. Add to preprocessing: Bigrams"
   ]
  },
  {
   "cell_type": "code",
   "execution_count": 3,
   "metadata": {},
   "outputs": [],
   "source": [
    "# Remove rare and common tokens.\n",
    "# Create a dictionary representation of the documents.\n",
    "docs = list(df[\"content\"])\n",
    "# Add bigrams and trigrams to docs (only ones that appear 20 times or more).\n",
    "bigram = Phrases(docs, min_count=40)\n",
    "for idx in range(len(docs)):\n",
    "    for token in bigram[docs[idx]]:\n",
    "        if '_' in token:\n",
    "            # Token is a bigram, add to document.\n",
    "            docs[idx].append(token)"
   ]
  },
  {
   "cell_type": "markdown",
   "metadata": {},
   "source": [
    "2.5. Extract corpus"
   ]
  },
  {
   "cell_type": "code",
   "execution_count": 9,
   "metadata": {},
   "outputs": [
    {
     "name": "stdout",
     "output_type": "stream",
     "text": [
      "Number of unique tokens: 2738\n",
      "Number of documents: 1450\n"
     ]
    }
   ],
   "source": [
    "dictionary = Dictionary(docs)\n",
    "# Filter out words that occur less than 20 documents, or more than 50% of the documents.\n",
    "dictionary.filter_extremes(no_below=80, no_above=0.5)\n",
    "# Bag-of-words representation of the documents.\n",
    "corpus = [dictionary.doc2bow(doc) for doc in docs]\n",
    "print('Number of unique tokens: %d' % len(dictionary))\n",
    "print('Number of documents: %d' % len(corpus))"
   ]
  },
  {
   "cell_type": "markdown",
   "metadata": {},
   "source": [
    "3. Define function to calculate coherence score (evaluation measure) for LDA"
   ]
  },
  {
   "cell_type": "code",
   "execution_count": 10,
   "metadata": {},
   "outputs": [],
   "source": [
    "def calculate_coherence_for_topicnum_range(corpus, dictionary, start_num, end_num):\n",
    "    result = []\n",
    "    temp = dictionary[0]\n",
    "    id2word = dictionary.id2token\n",
    "    # Set training parameters.\n",
    "    chunksize = 2000\n",
    "    passes = 20\n",
    "    iterations = 400\n",
    "    eval_every = None  # Don't evaluate model perplexity, takes too much time.\n",
    "    for i in range(start_num, end_num):\n",
    "        model = gensim.models.LdaModel(\n",
    "            corpus=corpus,\n",
    "            id2word=id2word,\n",
    "            chunksize=chunksize,\n",
    "            alpha='auto',\n",
    "            eta='auto',\n",
    "            iterations=iterations,\n",
    "            num_topics=i,\n",
    "            passes=passes,\n",
    "            eval_every=eval_every\n",
    "        )\n",
    "        #cm = CoherenceModel(model=model, corpus=corpus, dictionary=dictionary, coherence='u_mass')\n",
    "        #coherence = cm.get_coherence()  # get coherence value\n",
    "        top_topics = model.top_topics(corpus, dictionary=dictionary) #, num_words=20)\n",
    "        # Average topic coherence is the sum of topic coherences of all topics, divided by the number of topics.\n",
    "        avg_topic_coherence = sum([t[1] for t in top_topics]) / i\n",
    "        print(\"Coherence for topic num. {}: {}\".format(i, avg_topic_coherence))\n",
    "        result.append((i, avg_topic_coherence))\n",
    "    return result"
   ]
  },
  {
   "cell_type": "markdown",
   "metadata": {},
   "source": [
    "4. Calculate coherence scores"
   ]
  },
  {
   "cell_type": "code",
   "execution_count": 11,
   "metadata": {},
   "outputs": [
    {
     "name": "stdout",
     "output_type": "stream",
     "text": [
      "Coherence for topic num. 5: -0.9801109274386466\n",
      "Coherence for topic num. 6: -1.0360978738413664\n",
      "Coherence for topic num. 7: -0.9730068820645628\n",
      "Coherence for topic num. 8: -1.0037119319991503\n",
      "Coherence for topic num. 9: -1.0016049039752972\n",
      "Coherence for topic num. 10: -1.0329624617067275\n",
      "Coherence for topic num. 11: -1.0356795204676197\n",
      "Coherence for topic num. 12: -1.085289469372233\n",
      "Coherence for topic num. 13: -1.105930515117205\n",
      "Coherence for topic num. 14: -1.0551513366242935\n",
      "\u0007\n"
     ]
    }
   ],
   "source": [
    "results = calculate_coherence_for_topicnum_range(corpus, dictionary, 5, 15)\n",
    "print('\\a')"
   ]
  },
  {
   "cell_type": "markdown",
   "metadata": {},
   "source": [
    "5. Plot coherence values and find highest point (best coherence)"
   ]
  },
  {
   "cell_type": "code",
   "execution_count": 12,
   "metadata": {},
   "outputs": [
    {
     "data": {
      "text/plain": [
       "[<matplotlib.lines.Line2D at 0x7fcc8d1f5850>]"
      ]
     },
     "execution_count": 12,
     "metadata": {},
     "output_type": "execute_result"
    },
    {
     "data": {
      "image/png": "[encoded data removed]",
      "text/plain": [
       "<Figure size 432x288 with 1 Axes>"
      ]
     },
     "metadata": {
      "needs_background": "light"
     },
     "output_type": "display_data"
    }
   ],
   "source": [
    "xs = [x[0] for x in results]\n",
    "ys = [x[1] for x in results]\n",
    "plt.plot(xs, ys)"
   ]
  },
  {
   "cell_type": "markdown",
   "metadata": {},
   "source": [
    "6. Show topics of best model"
   ]
  },
  {
   "cell_type": "code",
   "execution_count": 13,
   "metadata": {},
   "outputs": [
    {
     "name": "stdout",
     "output_type": "stream",
     "text": [
      "[([(0.005463916, 'minute'),\n",
      "   (0.0049036318, 'dortmund'),\n",
      "   (0.0048224693, '0'),\n",
      "   (0.004726746, 'münchen'),\n",
      "   (0.0045020017, 'gewinnen'),\n",
      "   (0.004258057, 'wolfsburg'),\n",
      "   (0.0042121704, 'leverkusen'),\n",
      "   (0.0041076047, 'hälfte'),\n",
      "   (0.004061603, 'platz'),\n",
      "   (0.003998599, 'schalke'),\n",
      "   (0.003972159, 'mönchengladbach'),\n",
      "   (0.003938149, 'bayer'),\n",
      "   (0.0039059522, 'stuttgart'),\n",
      "   (0.003889079, 'hannover'),\n",
      "   (0.0038863928, 'bremen'),\n",
      "   (0.0035647848, 'spiel'),\n",
      "   (0.0035434521, 'augsburg'),\n",
      "   (0.00334095, 'zweit'),\n",
      "   (0.003327264, 'hamburg'),\n",
      "   (0.0033253524, 'hoffenheim')],\n",
      "  -0.7358524688130959),\n",
      " ([(0.01238539, 'ukraine'),\n",
      "   (0.009005217, 'russland'),\n",
      "   (0.0043203365, 'separatist'),\n",
      "   (0.0037861294, 'putin'),\n",
      "   (0.0037625749, 'kampf'),\n",
      "   (0.0035775935, 'russisch'),\n",
      "   (0.0034092187, 'moskau'),\n",
      "   (0.003374853, 'konflikt'),\n",
      "   (0.003369933, 'russische'),\n",
      "   (0.0032957443, 'soldat'),\n",
      "   (0.00314433, 'kiew'),\n",
      "   (0.0031381377, 'ukrainische'),\n",
      "   (0.00292677, 'israel'),\n",
      "   (0.002878625, 'außenminister'),\n",
      "   (0.0028477916, 'ukrainisch'),\n",
      "   (0.0027412202, 'grenze'),\n",
      "   (0.002557492, 'irak'),\n",
      "   (0.0025229387, 'türkei'),\n",
      "   (0.0024053308, 'armee'),\n",
      "   (0.0022975511, 'gespräch')],\n",
      "  -0.9794029523495067),\n",
      " ([(0.015693676, 'flüchtling'),\n",
      "   (0.010206973, 'griechenland'),\n",
      "   (0.0034326336, 'grenze'),\n",
      "   (0.0032805256, 'türkei'),\n",
      "   (0.003059076, 'griechisch'),\n",
      "   (0.0027272205, 'athen'),\n",
      "   (0.0027105773, 'syrien'),\n",
      "   (0.002534647, 'griechische'),\n",
      "   (0.002526908, 'polizei'),\n",
      "   (0.0025261377, 'hilfe'),\n",
      "   (0.002485313, 'zahl'),\n",
      "   (0.0024615275, 'union'),\n",
      "   (0.0024424011, 'europäisch'),\n",
      "   (0.002387324, 'brüssel'),\n",
      "   (0.002268798, 'kanzlerin'),\n",
      "   (0.0022625576, 'spd'),\n",
      "   (0.0022164602, 'finanzminister'),\n",
      "   (0.0021971678, 'problem'),\n",
      "   (0.0021209707, 'brauchen'),\n",
      "   (0.0020816037, 'tsipras')],\n",
      "  -0.9839070657865124),\n",
      " ([(0.004842151, 'syrien'),\n",
      "   (0.0032256707, 'obama'),\n",
      "   (0.0025504632, 'kind'),\n",
      "   (0.0024404903, 'bundestag'),\n",
      "   (0.0022549941, 'parlament'),\n",
      "   (0.002206015, 'unternehmen'),\n",
      "   (0.0021235873, 'gesetz'),\n",
      "   (0.0020698896, 'problem'),\n",
      "   (0.0019676543, 'gericht'),\n",
      "   (0.0019171863, 'syrische'),\n",
      "   (0.0019166713, '6'),\n",
      "   (0.001911114, 'milliarde_euro'),\n",
      "   (0.0018493694, 'europäisch'),\n",
      "   (0.0018270538, 'datum'),\n",
      "   (0.0018077029, 'haus'),\n",
      "   (0.001781453, 'israel'),\n",
      "   (0.0017537291, 'banken'),\n",
      "   (0.0017412709, 'kritik'),\n",
      "   (0.0017264077, 'druck'),\n",
      "   (0.001695091, 'kanzlerin')],\n",
      "  -1.0317844105590326),\n",
      " ([(0.009346252, 'spd'),\n",
      "   (0.005793484, 'fdp'),\n",
      "   (0.0056808065, 'koalition'),\n",
      "   (0.005498441, 'union'),\n",
      "   (0.0054530897, 'grüne'),\n",
      "   (0.0053007323, 'cdu'),\n",
      "   (0.0044069863, 'wahl'),\n",
      "   (0.0034724001, 'csu'),\n",
      "   (0.003380176, 'mehrheit'),\n",
      "   (0.0033630633, 'ergebnis'),\n",
      "   (0.0032630828, 'schnee'),\n",
      "   (0.003206853, 'papst'),\n",
      "   (0.002645294, 'stimme'),\n",
      "   (0.002553853, 'frau'),\n",
      "   (0.0023381133, 'parlament'),\n",
      "   (0.0023074837, 'gewinnen'),\n",
      "   (0.002299815, 'wahlkampf'),\n",
      "   (0.0022758362, 'groß_koalition'),\n",
      "   (0.0022496001, 'kirche'),\n",
      "   (0.0022386122, 'knapp')],\n",
      "  -1.0571206405825158),\n",
      " ([(0.0037202393, 'lufthansa'),\n",
      "   (0.0032765022, 'schnee'),\n",
      "   (0.0031922432, 'gewerkschaft'),\n",
      "   (0.0030617395, 'opfer'),\n",
      "   (0.0030450656, 'bahn'),\n",
      "   (0.0028888448, 'bank'),\n",
      "   (0.0025562893, 'bayer'),\n",
      "   (0.0023294569, 'deutsche'),\n",
      "   (0.002285573, 'münchen'),\n",
      "   (0.0022837159, 'maschine'),\n",
      "   (0.0022508325, 'haus'),\n",
      "   (0.002174136, 'straße'),\n",
      "   (0.0021448473, 'regnen'),\n",
      "   (0.0021222592, 'flughafen'),\n",
      "   (0.002116362, 'frankfurt'),\n",
      "   (0.0020872238, 'streik'),\n",
      "   (0.0020678623, 'china'),\n",
      "   (0.002020434, 'südosten'),\n",
      "   (0.0020073717, '6'),\n",
      "   (0.0019808556, 'welt')],\n",
      "  -1.1168928079312366),\n",
      " ([(0.0070134504, 'anschlag'),\n",
      "   (0.0054641655, 'frankreich'),\n",
      "   (0.0043728394, 'polizei'),\n",
      "   (0.0040388037, 'paris'),\n",
      "   (0.003920905, 'ägypten'),\n",
      "   (0.003734668, 'töten'),\n",
      "   (0.0035954155, 'schnee'),\n",
      "   (0.0031496042, 'opfer'),\n",
      "   (0.002833537, 'soldat'),\n",
      "   (0.0027613882, 'welt'),\n",
      "   (0.0027067584, 'verletzen'),\n",
      "   (0.002559229, 'terror'),\n",
      "   (0.0025448035, 'islamist'),\n",
      "   (0.002418916, 'mindestens'),\n",
      "   (0.0023654527, 'gewalt'),\n",
      "   (0.0022046624, 'protest'),\n",
      "   (0.0021410864, 'demonstrant'),\n",
      "   (0.0020687785, 'anhänger'),\n",
      "   (0.0020621112, 'straße'),\n",
      "   (0.0020258103, 'muslimbrüder')],\n",
      "  -1.121706031936737)]\n"
     ]
    }
   ],
   "source": [
    "best_num_topics = max(results,key=itemgetter(1))[0]\n",
    "temp = dictionary[0]\n",
    "id2word = dictionary.id2token\n",
    "chunksize = 2000\n",
    "passes = 20\n",
    "iterations = 400\n",
    "eval_every = None  # Don't evaluate model perplexity, takes too much time.\n",
    "model = gensim.models.LdaModel(\n",
    "    corpus=corpus,\n",
    "    id2word=id2word,\n",
    "    chunksize=chunksize,\n",
    "    alpha='auto',\n",
    "    eta='auto',\n",
    "    iterations=iterations,\n",
    "    num_topics=best_num_topics,\n",
    "    passes=passes,\n",
    "    eval_every=eval_every\n",
    ")\n",
    "top_topics = model.top_topics(corpus, dictionary=dictionary)\n",
    "pprint(top_topics)"
   ]
  },
  {
   "cell_type": "code",
   "execution_count": null,
   "metadata": {},
   "outputs": [],
   "source": []
  }
 ],
 "metadata": {
  "kernelspec": {
   "display_name": "Python 3",
   "language": "python",
   "name": "python3"
  },
  "language_info": {
   "codemirror_mode": {
    "name": "ipython",
    "version": 3
   },
   "file_extension": ".py",
   "mimetype": "text/x-python",
   "name": "python",
   "nbconvert_exporter": "python",
   "pygments_lexer": "ipython3",
   "version": "3.7.4"
  }
 },
 "nbformat": 4,
 "nbformat_minor": 2
}
