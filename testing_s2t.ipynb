{
 "cells": [
  {
   "cell_type": "markdown",
   "metadata": {},
   "source": [
    "<h1>Notebook für speech2text Test</h2>"
   ]
  },
  {
   "cell_type": "code",
   "execution_count": 4,
   "metadata": {},
   "outputs": [],
   "source": [
    "from pathlib import Path\n",
    "from pydub import AudioSegment\n",
    "from pydub.silence import split_on_silence\n",
    "import speech_recognition as sr\n",
    "from pydub.playback import play"
   ]
  },
  {
   "cell_type": "markdown",
   "metadata": {},
   "source": [
    "<h2> Funktion für speech2text: </h2>\n",
    "Teile .flac in chunks, spiel den chunk und zeige die Transkribtion"
   ]
  },
  {
   "cell_type": "code",
   "execution_count": 44,
   "metadata": {},
   "outputs": [],
   "source": [
    "def speech_to_text(path):\n",
    "    \"\"\"\n",
    "    Convert a video to text via Speech2Text software\n",
    "\n",
    "            Parameters:\n",
    "                    path (str): Path of the episode mp3 that is to be transcripted.\n",
    "\n",
    "            Returns:\n",
    "                    None\n",
    "    \"\"\"\n",
    "    recognizer = sr.Recognizer()\n",
    "    sound_file = AudioSegment.from_file(path)\n",
    "    sound_file = sound_file - (sound_file.dBFS + 18)\n",
    "    print(sound_file.dBFS)\n",
    "    # Divide mp3 into chunks (speech2text only works for <1min input) based on pauses.\n",
    "    # This might not always work out as intended.\n",
    "    audio_chunks = split_on_silence(sound_file, min_silence_len=390, silence_thresh=sound_file.dBFS-22) #390,-39\n",
    "    for i, chunk in enumerate(audio_chunks):\n",
    "        try:\n",
    "            # TODO: Is there a way to do this without saving the chunks?\n",
    "            chunk.export(\"chunk_{}.wav\".format(i), format=\"wav\")\n",
    "            with sr.AudioFile(\"chunk_{}.wav\".format(i)) as source:\n",
    "                audio = recognizer.record(source)\n",
    "                text = recognizer.recognize_google(audio, language=\"de-DE\") + \". \"\n",
    "                print(\"chunk {}: {}\".format(i, text))\n",
    "                play(AudioSegment.from_wav(\"chunk_{}.wav\".format(i)))\n",
    "        except sr.UnknownValueError:    \n",
    "            print(\"Chunk not readable!: {}\".format(i))\n"
   ]
  },
  {
   "cell_type": "markdown",
   "metadata": {},
   "source": [
    "<h2>Test mit zwei Episoden</h2>\n",
    "Episode vom 05.11.2009 (20 Uhr)"
   ]
  },
  {
   "cell_type": "code",
   "execution_count": 46,
   "metadata": {},
   "outputs": [
    {
     "name": "stdout",
     "output_type": "stream",
     "text": [
      "-18.000231311841674\n",
      "chunk 0: wie ist das erste deutsche Fernsehen mit der Tagesschau und abends meine Damen und Herren wütend und empört sind heute Tausende Opel Beschäftigte auf die Straße gegangen sie demonstrierten gegen die überraschende Entscheidung des US Mutterkonzerns General Motors Opel nicht zu verkaufen an den vier deutschen Standorten befürchten jetzt viele massiven Stellenabbau oder Werksschließungen dagegen wollen sich die Beschäftigten gemeinsam zur Wehr setzen. \n",
      "chunk 1: dem Ärger Luft machen das hilft tausenden Mitarbeitern am Tag 2 nach der General Motors Wände am größten deutschen Standort in Rüsselsheim ziehen am Vormittag knapp 10.000 Opelaner aus dem Werk in die Stadt schon über ein Jahr nur hinhaltetechnik Amerika da ist man natürlich immer sehr aufgewühlt auch wenn man sie innerhalb die Rüsselsheimer kämpfen sie ihre Jobs obwohl sie hier am wenigsten durch die Sanierungspläne gefährdet scheinen sie wollen Druck machen Gesamtbetriebsrat Chef franz diktiert Bedingungen GM müsste Opel in eine deutsche AG umwandeln für mehr Unabhängigkeit. \n",
      "chunk 2: und nicht ein Anhängsel das durch regiert warten kann von jennifer unters in Kaiserslautern produzieren etwa 1000 Mitarbeiter dagegen dass Opel in GM Konzern bleibt ihr Wer gilt als gefährdet wenn bislang Wagen Informationen zum GM Sanierungskonzept könnten in Europa drei Werke geschlossen und etwas 10000 Jobs abgebaut werden für Bochum gebe es jüngsten Äußerungen aus dem dm Vorstand zufolge interessante Optionen der noch Zweifel bei den 3.000 Mitarbeitern die heute die Arbeit niederlegen dann sowieso nicht jeder erstmal abwarten was jetzt warum kommt aber die haben kein Wort mehr. \n",
      "chunk 3: auf der spielte und kleinste Standort in Eisenach ist von Schließung bedroht hier gehen heute 600 Mitarbeiter auf die Straße die Nerven liegen blank und weil sie nicht mehr wissen wie es weitergeht 54-Jährige besser stehen neben ihnen Wein und das ist für ein Betriebsrat ist das auch oder geht das an die Substanz im Frühjahr William seinen Sanierungsplan vorstellen ob sie die Konzernmutter vom Protest in Deutschland beeindrucken lässt bezweifeln sogar Opel an. \n",
      "chunk 4: Entscheidung von General Motors hat für Irritationen zwischen Deutschland und den USA gesorgt Bundeskanzlerin Merkel telefonierte mit Präsident Obama habe Merkel versichert in die Entscheidung des GM Verwaltungsrats nicht eingebunden gewesen zu sein so Regierungssprecher würde die Bundesregierung fordert jetzt rasch ein neues Konzept zu Opel und eine Rückzahlung des deutschen Kredits der zur Überbrückung gezahlt worden war am Abend treffen sich die Ministerpräsidenten mit Opel Standorten und Vertreter der Bundesregierung. \n",
      "chunk 5: hessische Landesvertretung in Berlin vor rund einer Stunde Beginn des Gipfeltreffens mit dem Bundeswirtschaftsminister und den Ministerpräsidenten der vier Opel Länder. \n",
      "chunk 6: wir wollen natürlich erreichen dass. \n",
      "chunk 7: die Standort erhalten bleiben das möglichst wenig Arbeitsplätze abgebaut werden. \n",
      "chunk 8: wir wollen so schnell wie möglich und das war eine. \n",
      "chunk 9: Fertigmaß Überforderung. \n",
      "chunk 10: wir wollen jetzt die Pläne von General Motors kennenlernen es kann nicht sein. \n",
      "chunk 11: das was jetzt noch Wochen und Monate so weitergeht. \n",
      "chunk 12: Bund und Länder hätten genug Vorschläge für die Opel Rettung gemacht so hessens Ministerpräsident Koch nun sei General Motors am Zug. \n",
      "chunk 13: wir haben mit Steuergeldern dieses Unternehmen gerettet ohne die Steuergelder gps General Motors Opel Europa heute nicht mehr unter Mutters könnte es nicht zurückbehalten es gibt es denke ich auch das Recht sehr ernsthaft unser Clan mit dem beteiligt zu sprechen und die Interessen unseres Landes und unserer Arbeitnehmerin und Arbeitnehmer zu verdreht. \n",
      "chunk 14: Starthilfen für General Motors Schloss Jürgen Rüttgers nicht grundsätzlich aus Voraussetzung dafür dass überhaupt staatliche Hilfe möglich ist ist dass es eine Perspektive für Opel gibt eine langfristige Perspektive für Opel nicht nur für ein paar Monate und der dass die restrukturierende auch erfolgreich ist. \n",
      "chunk 15: überdies will man die Hoffnung nicht aufgeben in geplatzten Opel Verkauf an Magna doch noch irgendwie zu retten. \n",
      "chunk 16: auf jeden Fall sollten wir einen Versuch unternehmen denn bisher gibt es nichts was an überzeugen kann warum nein gesagt worden ist. \n",
      "chunk 17: noch beraten die Spitzenpolitiker alles auf Anfang die Rettung von Opel beginnt von Neuem. \n",
      "chunk 18: zu den Beratungen der Ministerpräsidenten und der Bundesregierung jetzt live aus Berlin Ulrich Deppendorf. \n",
      "chunk 19: Jan vor wenigen Minuten ist die Sitzung hier zu Ende gegangen bei mir Jürgen Rüttgers noch einmal der Ministerpräsident von Nordrhein-Westfalen Herr Rüttgers gab es eine erste entscheidung heute Abend hier. \n",
      "chunk 20: ja wir haben vereinbart dass wir in den nächsten Tagen und Wochen gemeinsam alles tun wollen die Arbeitsplätze zu erhalten die Standorte zu stabilisieren wir warten jetzt von General Motors nach der Entscheidung in Detroit das sein klares Konzept vorgelegt wird in prüfig ist Konzepte wo man sich mit beschäftigen kann damit die Unsicherheit aus der Debatte rauskommt und für die Bundesländer ist klar dass die vier Standorte nicht zur Disposition stehen. \n",
      "chunk 21: muss das Konzept von GM Nani maklerkonzept sein um überhaupt Geld zu bekommen dann ist ja nicht unsere Frage jetzt die wir beantworten wir wollen klare Aussagen von Detroit wie man sich das vorstellt wie es weitergehen soll dazu muss müssen früh Felge Unterlagen her sonst kann man nicht helfen sonst kann man auch nicht diskutieren und soll ich hoffe sehr dass das jetzt sehr schnell geht das kann ich noch Monate dauern jetzt genau. \n",
      "chunk 22: die Bundeskanzlerin hat heute auch noch Image Präsident Obama telefoniert er bringt der Präsident hat noch einmal versichert der Arbeit nichts von der Entscheidung des Verwaltungsrates gewusst die Frage wird allerdings sein was hat seine Administration unterhalb seiner Ebene gewusst und damit zurück nach Hamburg. \n",
      "chunk 23: Batterie Aktionen außerdem Hintergründe und Kommentare zu Entwicklung bei Opel finden Sie im Internet unter tagesschau.de. \n",
      "chunk 24: Bundesregierung hält trotz einer Spielräume an ihrem geplanten Steuersenkungen fest Finanzminister Schäuble sagte die Vereinbarung werde umgesetzt er reagierte auf die neueste Steuerschätzung seit Dienstag hatten die Fachleute des Schätzer Kreises die Entwicklungen aller Steuerarten unter die Lupe genommen nach ihrer Prognose werden Bund Länder und Gemeinden in diesem Jahr 3000000000 Euro weniger einnehmen als noch im Mai vorhergesagt. \n",
      "chunk 25: an den Steuerakten kann man es von außen kaum erkennen. \n",
      "chunk 26: aber der Inhalt ist dramatisch auch hier im Finanzamt Berlin Mitte merkt man es die Krise schlecht durch. \n",
      "chunk 27: die Steuereinnahmen gehen zurück. \n",
      "chunk 28: von der Einkommens bis zur Gewerbesteuer überall ein dickes Minus. \n",
      "chunk 29: in diesem Jahr. \n",
      "chunk 30: wenn die Einnahmen des Staates auf 524 mit Jahren zurückgehen im kommenden sinken sie sogar auf 511 media. \n",
      "chunk 31: das ist zwar etwas besser als gedacht aber immer noch ziemlich schlimm der neue Finanzminister. \n",
      "chunk 32: irgendwo zwischen Hoffen und Bangen. \n",
      "Chunk not readable!: 33\n",
      "chunk 34: Mindereinnahmen sie nicht mehr ganz so dramatisch. \n",
      "chunk 35: bis befürchtet war aber sie sind erheblich und deswegen. \n",
      "chunk 36: ist richtig. \n",
      "chunk 37: bis wir uns darauf konzentrieren zum 1. Januar ein Wachstumsbeschleunigungsgesetz. \n",
      "chunk 38: die Kraft zu setzen. \n",
      "chunk 39: dieses Wachstumsbeschleunigungsgesetz ist der etwas sperrige Ausdruck für eine Steuersenkung so steht es auf dem Koalitionspartner. \n",
      "chunk 40: sie war familienunterstützender mit die größere Sprünge machen können Kindergeld und Kinderfreibetrag soll nämlich rauf. \n",
      "chunk 41: nehmen Erbschaftssteuern dagegen runter für den Staat heißt das aber sieben Milliarden weniger unmöglich sagt die Opposition. \n",
      "chunk 42: die Steuerschätzung zeigt uns jetzt. \n",
      "chunk 43: dass die Angebote von Schwarz-Gelb jeder seriösen Grundlage entbehren. \n",
      "chunk 44: diese seriöse Grundlage das soll jetzt der Haushalt für 2010 sein den Schäuble mit den Zahlen von heute aufstellen muss. \n"
     ]
    },
    {
     "name": "stdout",
     "output_type": "stream",
     "text": [
      "chunk 45: die Steuerschätzung spielt den Minister in die Karten sie dämpft die Ausgaben Wünsche der Kollegen und zügelt die FDP und ihre Steuer wünsche. \n",
      "chunk 46: den Haushalt in den Griff zu bekommen. \n",
      "chunk 47: das ist die Rolle für die die Kanzlerin Schäuble engagiert hat. \n",
      "chunk 48: wegen der wartet die Mindereinnahmen schlagen auch die Kommunen alarm städtetagspräsident in rot warnte die Bundesregierung vor Steuerentlastungen auf Kosten der Städte und Gemeinden das Geld für Kinderbetreuung und andere kommunale Aufgaben kommt zu großen Teilen aus der Gewerbesteuer hier aber brechen die Einnahmen weg. \n",
      "chunk 49: Heimspiele in der Berliner kinderfreizeiteinrichtung Känguru doch was hier einfach Spaß ist ist bei der Finanzierung bitterer Ernst knapp 100 Kinder kommen jeden Tag nach der Schule betreut von drei Mitarbeitern früher war müsst fünf der kommunale Träger des Känguru muss sparen jetzt steigt der Bezirk ganz aus ein freier Träger soll übernehmen wir müssen jetzt ganz aktuell erstmal 2000000 Euro nur im Bereiche. \n",
      "chunk 50: des Jugendamtes. \n",
      "chunk 51: kürzen weil mit sparen hat es nichts mehr zu tun die Städte und Gemeinden stehen finanziell unter Druck für dieses Jahr rechnen die Kommunen mit Steuereinnahmen von 69, 3000000000 Euro das wären 10% weniger als im vergangenen Jahr. \n",
      "chunk 52: die Pläne der neuen Bundesregierung jetzt auch noch Steuern zu senken würden die Finanzlage der Kommunen noch mal deutlich Schwächen sagt der Städtetag. \n",
      "chunk 53: wenn man kein Geld hat und wir gleichzeitig noch Steuern senken dass die gesamtgesellschaftliche Struktur ins Wanken gerät und deshalb sprechen wir uns sehr konkret gegen eine Demontage der Steuergesetzgebung die die Kommunen brauchen um Daseinsvorsorge zu finanzieren aus. \n",
      "chunk 54: schon jetzt wird in vielen Städten auf. Gebaut 32,6 Milliarden Euro haben die Kommunen als kurzzeitkredit in Anspruch genommen. \n",
      "chunk 55: für die laufenden Ausgaben wenn in Zukunft noch weniger Geld in die Kassen kommt könnte das Finanzgericht zusammenbrechen. \n",
      "chunk 56: zu den Leistungen von Kommunen gehört auch die Grundsicherung wie wird gewählt wenn die Rente zum Leben nicht reicht oder bei einer vollen Erwerbsminderung immer mehr Menschen in Deutschland sind auf diese Unterstützung angewiesen 2007 waren es noch 733 000 Empfängern Ende 2008 hat sich die Zahl der Bedürftigen auf 768000 erhöht ein Plus von 4,8%. \n",
      "chunk 57: häufigsten benötigt wird die Grundsicherung in Hamburg Bremen und Berlin. \n",
      "chunk 58: Jamaika an der Saar ist fast perfekt CDU FDP und Grüne wollen künftig gemeinsam das kleinste deutsche Flächenland regieren die Parteien stellten heute in Saarbrücken ihren Koalitionsvertrag vor ein Bündnis schwarz gelb grün die Farben der jamaikanischen Flagge ist ein Novum in der Republik Landesparteitage von CDU FDP und Grünen müssen dem Vertrag noch zustimmen. \n",
      "chunk 59: CDU-Landeschef Müller ist zufrieden er war wieder Ministerpräsident werden und dazu noch Justizminister trotz Verlusten von 13% bei den Landtagswahlen im August. \n",
      "chunk 60: Jamaica war keine Wunsch Konfirmation so musst Du Müllers CDU die Studiengebühren Opfern unbedingt Grünen ins Geschäft zu kommen. \n",
      "chunk 61: der Vertrag. \n",
      "chunk 62: enthält Kompromisse. \n",
      "chunk 63: jede Partei hat Zugeständnisse machen müssen. \n",
      "chunk 64: jede Partei hat aber auch wichtige Positionen durchsetzen können. \n",
      "chunk 65: in diesem Vertrag findet sich jeder der Partner wieder. \n",
      "chunk 66: bei der Bildungspolitik konnten vor allem die Grünen Akzente setzen die Farbe des gemeinsamen Lernens in der Grundschule wird auf 5 Jahre verlängert außerdem soll es mir Gesamtschulen geben die alle Abschlüsse bis zum Abitur anbieten. \n",
      "chunk 67: auch beim Atomausstieg konnten sich die Grünen durchsetzen der Koalitionsvertrag schreibt fest dass das Saarland im Bundesrat gegen eventuelle Laufzeitverlängerung stimmt. \n",
      "chunk 68: für mich als Landesvorsitzender der Grünen ist es noch einmal wichtig. \n",
      "chunk 69: an dieser Stelle zu sagen. \n",
      "chunk 70: bis wir. \n",
      "chunk 71: Fiat Landesverband Saarland. \n",
      "chunk 72: nach der Wahl. \n",
      "chunk 73: sehr viel. \n",
      "chunk 74: von dem innerlich umsetzen konnten was wir am Wahlkampf unseren. \n",
      "chunk 75: Wählerinnen und Wählern versprochen haben am Wochenende müssen die Parteitage den vor Lizenzvertrag noch absegnen mit Überraschungen rechnet niemand am Dienstag zum Müller dann zumindest der Präsidenten gewählt werden. \n",
      "chunk 76: in Brandenburg ist das Regierungsbündnis bereits besiegelt SPD und Linkspartei unterzeichneten heute ihren Koalitionsvertrag damit bekommt das Land 20 Jahre nach dem Mauerfall erstmals eine rot-rote Regierung gestern Abend hatten beide Parteien der Vereinbarung zugestimmt der Koalitionsvertrag setzt vor allem auf soziale Gerechtigkeit und Chancengleichheit die SPD soll fünf und die Linke vier Ministerposten bekommen Ministerpräsident Platz ich will sich morgen im Landtag zur Wiederwahl stellen. \n",
      "chunk 77: Berlins Innensenator Körting hat die Neonazi Organisation Frontmann 24 verboten sie verfolge verfassungsfeindliche Ziele und verherrliche den Nationalsozialismus so die Innenbehörde Ausländer und jüdisch Gläubige sein von der Gruppe ebenso diffamiert werden die Politiker und Paramente die Vereinigung hatte sich nach einem Vorläufer der SA bin. \n",
      "chunk 78: in der EU sollen Internet und Telefon Kunden künftig mehr Rechte bekommen darauf haben sich die Unterhändler des Europaparlaments und der EU Regierungen gar nicht vom kommenden Jahr an sollen Festnetz und Handy Kunden ihren Anbieter innerhalb von einem Tag wechseln können außerdem sollen Kundendaten besser geschützt werden für die Sperrung von Internetzugängen etwa bei mutmaßlichen Raubkopieren will die EU die hürdenhöhe legen. \n",
      "chunk 79: einen der Pioniere der modernen Informationstheorie und Technologie ist eine Ausstellung im Heinz Nixdorf museumsforum in Paderborn gewidmet Claude Shannon hochbegabter und mitunter etwas schrulliger Professor baute unter anderem lernfähige Blech Mäuse oder erforschte mit Spielzeugen die Gesetzmäßigkeit der jonglieren der Begriff Bit aus der Computersprache taucht erstmals in einem seiner wegweisenden Aufsätze auf eine besonders pfiffige Erfindung von Shannon die sich selbst ausschalten der Apparatur. \n",
      "chunk 80: nur die wettervorhersage für morgen Freitag den 6. November. \n",
      "chunk 81: das Tief über der Nordsee löst sich im Laufe des Tages morgen allmählich auf die Folge in weiten Teilen Deutschlands beruhigt sich das Wetter Schauer sind meist auf den Nordwesten begrenzt. \n",
      "chunk 82: auch in der Nacht fallen in der Nordwest app Zuschauer im Südosten ist es teilweise klar. \n",
      "chunk 83: ein Tag in der Nordsee schaue RheinEnergie Peter sind mit dabei sonst abseits von einigen Nebelfelder mal Sonne mal Wolken meinst es ist trocken ganz im Südosten Regen auf den Bergen Schnee. \n",
      "chunk 84: an den Küsten frischer Wind sonst wird er schwach bis mäßig im Südosten nur schwacher Wind. \n",
      "chunk 85: heute Nacht acht Grad an der Ems -2° im Allgäu. \n",
      "chunk 86: Tagesdecken wieder an auf 11 Grad im Raum Köln und 5 Grad im äußersten Südosten. \n",
      "chunk 87: am Samstag regnet es am besten zeitweisen auf den Daten teilweise Schnee im Osten mal sondern bei Wolken meine Hebel nur etwas Regen. \n",
      "chunk 88: am Sonntag an den alten Regen oder Schnee sonst nur vereinzelt ein paar Tropfen am Montag regnet oder schneit es vor allem im Süden und Osten. \n",
      "chunk 89: wir melden uns wieder mit den Tagesthemen um 22:15 Uhr ur heute mit Tom Buhrow darin entschlossen der Protest der Opelaner gegen die German Scheidung und dramatisch die letzte Flucht vor dem Mauerfall am Checkpoint Charlie. \n",
      "Chunk not readable!: 90\n"
     ]
    }
   ],
   "source": [
    "speech_to_text(\"test.flac\")"
   ]
  },
  {
   "cell_type": "markdown",
   "metadata": {},
   "source": [
    "Episode vom 07.11.2020 (09:50 Uhr)"
   ]
  },
  {
   "cell_type": "code",
   "execution_count": 45,
   "metadata": {},
   "outputs": [
    {
     "name": "stdout",
     "output_type": "stream",
     "text": [
      "-18.00255274308636\n",
      "chunk 0: und Tag meine Damen und Herren ich begrüße Sie zur Tagesschau. \n",
      "chunk 1: bei der US-Präsidentschaftswahl hat Herausforderer beiden seinen Vorsprung vor anziehen aber Trump. \n",
      "chunk 2: den Bundesstaaten Georgia und Pennsylvania weiter ausgebaut die Republikaner versuchen nun die Zählung bestimmter Briefwahlstimmen in Pennsylvania per Eilantrag. \n",
      "chunk 3: am Obersten Gerichtshof zu unterbinden. \n",
      "chunk 4: während sich US-Präsident Trump weiter als Opfer systematischen Wahlbetrug darstellt rief der Präsidentschaftskandidaten Demokraten beiden die Amerikaner zur Einheit auf. \n",
      "chunk 5: zum Wahlsieger erklärt dass ich zwar noch nicht. \n",
      "chunk 6: aber in seiner Heimat Wilmington gibt sich Joe Biden vor wenigen Stunden siegesgewiss. \n",
      "chunk 7: deine Windows Racing werden diese Wahl gewinnen wir haben mehr als 74 Millionen Stimmen lassen Sie mich das wiederholen 74 Millionen Stimmen LIFO. \n",
      "chunk 8: Amtsinhaber Trump Twitter der indes Joe Biden sollte nicht unrechtmäßiger Weise den Wahlsieg für sich beansprucht. \n",
      "chunk 9: unterdessen geht die Auszählung der Stimmen in den bis zuletzt umkämpften starten weiter beiden liegt nach wie vor knapp vorne auch im heiß umkämpften Pennsylvania. \n",
      "chunk 10: die Winter hier würde er die Marke der für die Präsidentschaft benötigten 270 war Leute Stimmen knacken. \n",
      "chunk 11: viele Orte versammelten sich in der Nacht Anhänger aus beiden Lagern vor den auszahlungsarten wie hier in Philadelphia. \n",
      "chunk 12: weidensteg in seiner Rede einen versöhnlichen ton an. \n",
      "chunk 13: babybrillen Gegner sein aber keine Feinde wir sind Amerikaner. \n",
      "chunk 14: die Zeit ist gekommen um als Nation zusammenzukommen und zu heilen das wird nicht einfach aber wir müssen es versuchen meine Verantwortung als Präsident wird es sein die gesamte Nation zu Vertrieb. \n",
      "chunk 15: mit seinem Team sieht sie ja in den Startlöchern ganz oben auf der Agenda Groner Pandemie Rassismus Wirtschaft und die Klimakrise. \n",
      "chunk 16: Markus Schuler in San Francisco wie ist denn der letzte Stand bei der Stimmenauszählung in den USA. \n",
      "chunk 17: Joe Biden konnte seinen Vorsprung vor allem im so wichtigen Bundesstaat Pennsylvania weiter ausbauen er hat dort jetzt knapp 29.000 Stimmen mehr als Donald Trump beiden braucht nur diesen Staat zu gewinnen dann ist er der nächste US-Präsident wann wir aber mit einem belastbaren Ergebnis rechnen können es immer noch unklar in Pennsylvania z.b. sind noch gut 100.000 Wahlzettel auszuwerten einen Vorentscheid könnte aber auffallen wenn er in Arizona und in Nevada zum Sieger erklärt wird er führt in beiden Staaten aber auch dort sind noch 10000 Wahlstimmen nicht ausgezählt heute Nacht vielleicht aber auch erst Sonntag. \n",
      "chunk 18: könnten wir mehr wissen damit zurück. \n",
      "chunk 19: nach Hamburg zu Jan Hus. \n",
      "chunk 20: vielen Dank Markus Schuler in San Francisco. \n",
      "chunk 21: angesichts steigender Corona Neuinfektionen nach der Marburger Bund Alternativen zur häuslichen Quarantäne gefordert. \n",
      "chunk 22: positiv getestete könnten in Hotels isoliert werden sofern sie nur schwache oder gar keine Symptome hätten sagte die Vorsitzende der Ärztegewerkschaft Jona den Zeitungen der funke-mediengruppe damit wirst du sich die Ansteckung weitere Familienmitglieder oder von Mitbewohnern verhindern und zudem würde dies auch den Hotels Einnahmen bringen. \n",
      "chunk 23: dem Robert Koch-Institut wurden innerhalb von 24 Stunden 23399 neue Coroner Fälle gemeldet. \n",
      "chunk 24: dies ist der höchste Wert seit Beginn der Pandemie. \n",
      "chunk 25: ich habe schon meldet sich wieder gegen 12 Uhr Ich wünsche Ihnen einen schönen Tag. \n",
      "Chunk not readable!: 26\n"
     ]
    }
   ],
   "source": [
    "speech_to_text(\"test2.flac\")"
   ]
  },
  {
   "cell_type": "code",
   "execution_count": null,
   "metadata": {},
   "outputs": [],
   "source": []
  }
 ],
 "metadata": {
  "kernelspec": {
   "display_name": "Python 3",
   "language": "python",
   "name": "python3"
  },
  "language_info": {
   "codemirror_mode": {
    "name": "ipython",
    "version": 3
   },
   "file_extension": ".py",
   "mimetype": "text/x-python",
   "name": "python",
   "nbconvert_exporter": "python",
   "pygments_lexer": "ipython3",
   "version": "3.7.4"
  }
 },
 "nbformat": 4,
 "nbformat_minor": 2
}
